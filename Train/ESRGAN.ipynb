{
  "cells": [
    {
      "cell_type": "markdown",
      "metadata": {
        "id": "8yapXs1A6-XN"
      },
      "source": [
        "Project: Image Super Resolution"
      ]
    },
    {
      "cell_type": "code",
      "execution_count": null,
      "metadata": {
        "id": "qmjCAsPX_qUc"
      },
      "outputs": [],
      "source": [
        "#this is a colab project file.\n",
        "import torch\n",
        "from google.colab import drive\n",
        "drive.mount('/content/drive/')"
      ]
    },
    {
      "cell_type": "markdown",
      "metadata": {
        "id": "sWWz9EqNCVKB"
      },
      "source": [
        "# **ESRGAN:**"
      ]
    },
    {
      "cell_type": "code",
      "execution_count": null,
      "metadata": {
        "id": "lRoju7sx-5Sb"
      },
      "outputs": [],
      "source": [
        "#imports for colab env.\n",
        "import cv2\n",
        "import os\n",
        "import time\n",
        "from time import sleep\n",
        "from tqdm import tqdm\n",
        "!sudo apt install tesseract-ocr\n",
        "!pip install pytesseract\n",
        "\n",
        "from PIL import Image\n",
        "import numpy as np\n",
        "import tensorflow as tf\n",
        "import pytesseract\n",
        "from pytesseract import Output\n",
        "import tensorflow_hub as hub\n",
        "import matplotlib.pyplot as plt\n",
        "from google.colab.patches import cv2_imshow\n",
        "\n",
        "\n",
        "#test image\n",
        "testLrPath = \"low-res image path\" "
      ]
    },
    {
      "cell_type": "code",
      "execution_count": 1,
      "metadata": {},
      "outputs": [],
      "source": [
        "#imports for local env.\n",
        "\"\"\"import cv2\n",
        "import numpy as np\n",
        "import os\n",
        "from time import sleep\n",
        "from tqdm import tqdm\n",
        "import pytesseract\n",
        "from pytesseract import Output\n",
        "\n",
        "\n",
        "pytesseract.pytesseract.tesseract_cmd = \"C:\\\\Program Files\\\\Tesseract-OCR\\\\tesseract.exe\"\n",
        "\n",
        "testLrPath = \"low-res image path\" \"\"\""
      ]
    },
    {
      "cell_type": "code",
      "execution_count": null,
      "metadata": {
        "id": "U3opRStd-IRC"
      },
      "outputs": [],
      "source": [
        "#read and preprocess image for Model\n",
        "lr_image = cv2.imread(testLrPath, cv2.IMREAD_COLOR)\n",
        "lr_image = cv2.cvtColor(lr_image, cv2.COLOR_BGR2RGB)\n",
        "if (lr_image.shape[2] == 4):\n",
        "  lr_image = lr_image[:,:,:3]\n",
        "\n",
        "lr_image = tf.cast(lr_image, tf.float32)\n",
        "lr_image = tf.expand_dims(lr_image, 0)"
      ]
    },
    {
      "cell_type": "code",
      "execution_count": null,
      "metadata": {
        "id": "qEild_YJCkEX"
      },
      "outputs": [],
      "source": [
        "LRimg = cv2.imread(testLrPath, cv2.IMREAD_COLOR)\n",
        "cv2_imshow(LRimg)\n",
        "orgImageHeight = LRimg.shape[0]\n",
        "orgImageWidth = LRimg.shape[1]\n",
        "print(\"Original Image Height: \", orgImageHeight)\n",
        "print(\"Original Image Width: \", orgImageWidth)"
      ]
    },
    {
      "cell_type": "code",
      "execution_count": null,
      "metadata": {
        "id": "s3KpfJdmCrl1"
      },
      "outputs": [],
      "source": [
        "esrganModel = hub.load(\"/content/drive/MyDrive/ESRGAN_Model\") #load ESRGAN Model"
      ]
    },
    {
      "cell_type": "code",
      "execution_count": null,
      "metadata": {
        "id": "AJyqYf5cCtO9"
      },
      "outputs": [],
      "source": [
        "hr_image = esrganModel(lr_image)\n",
        "hr_image = tf.squeeze(hr_image)"
      ]
    },
    {
      "cell_type": "code",
      "execution_count": null,
      "metadata": {
        "id": "1qujbJVCCxal"
      },
      "outputs": [],
      "source": [
        "# Display and Save Super Resolution Image\n",
        "image = np.asarray(tf.squeeze(hr_image))\n",
        "image = np.clip(image, 0, 255)\n",
        "image = Image.fromarray(tf.cast(image, tf.uint8).numpy())\n",
        "plt.imshow(image)\n",
        "\n",
        "image = tf.squeeze(hr_image)\n",
        "if not isinstance(image, Image.Image):\n",
        "  image = np.clip(image, 0, 255)\n",
        "  image = Image.fromarray(tf.cast(image, tf.uint8).numpy())\n",
        "savePath = \"save path of super-res image\"\n",
        "image.save(savePath)\n",
        "\n",
        "#Restart Runtime and Run again if error pops-up"
      ]
    },
    {
      "cell_type": "markdown",
      "metadata": {
        "id": "NEZ-ouxrU3vp"
      },
      "source": [
        "# **Scaling with Nearest Neighbour, Liner and Cubic Interpolation:**"
      ]
    },
    {
      "cell_type": "code",
      "execution_count": null,
      "metadata": {
        "id": "Z1LVxdlfVIon"
      },
      "outputs": [],
      "source": [
        "lowResImg = cv2.imread(testLrPath, cv2.IMREAD_COLOR)\n",
        "\n",
        "supResPath = 'super-res image path' #loading saved super-res image\n",
        "supResImg = cv2.imread(supResPath, cv2.IMREAD_COLOR)\n",
        "\n",
        "orgImageHeight = lowResImg.shape[0]\n",
        "orgImageWidth = lowResImg.shape[1]\n",
        "print(\"Original Image Height: \", orgImageHeight)\n",
        "print(\"Original Image Width: \", orgImageWidth)\n",
        "\n",
        "imageHeight = supResImg.shape[0]\n",
        "imageWidth = supResImg.shape[1]\n",
        "print(\"SR Image Height: \", imageHeight)\n",
        "print(\"SR Image Width: \", imageWidth)"
      ]
    },
    {
      "cell_type": "code",
      "execution_count": null,
      "metadata": {
        "id": "R5viqh1iWhn3"
      },
      "outputs": [],
      "source": [
        "#code for performing nearest Upscaling, linear Upscaling, cubic Upscaling.\n",
        "scaleFactor = 4\n",
        "new_width = orgImageWidth * scaleFactor\n",
        "new_height = orgImageHeight * scaleFactor\n",
        "new_dim = (new_width, new_height)\n",
        "\n",
        "nearestUpscaled = cv2.resize(lowResImg, new_dim, interpolation = cv2.INTER_NEAREST)\n",
        "\n",
        "linearUpscaled = cv2.resize(lowResImg, new_dim, interpolation= cv2.INTER_LINEAR)\n",
        "\n",
        "cubicUpscaled = cv2.resize(lowResImg, new_dim, interpolation= cv2.INTER_CUBIC)"
      ]
    },
    {
      "cell_type": "code",
      "execution_count": null,
      "metadata": {
        "id": "_HmAgmVYWpyP"
      },
      "outputs": [],
      "source": [
        "#pytesseract output for Upscaling, linear Upscaling, cubic Upscaling and ESRGAN images\n",
        "img1 = cv2.cvtColor(nearestUpscaled, cv2.COLOR_BGR2RGB)\n",
        "outData1 = pytesseract.image_to_string(img1)\n",
        "print(\"Nearest Neighbour Data:\", outData1)\n",
        "\n",
        "img2 = cv2.cvtColor(linearUpscaled, cv2.COLOR_BGR2RGB)\n",
        "outData2 = pytesseract.image_to_string(img2)\n",
        "print(\"Linear Upscaled Data:\", outData2)\n",
        "\n",
        "img3 = cv2.cvtColor(cubicUpscaled, cv2.COLOR_BGR2RGB)\n",
        "outData3 = pytesseract.image_to_string(img3)\n",
        "print(\"Cubic Upscaled Data:\", outData3)\n",
        "\n",
        "img4 = cv2.cvtColor(supResImg, cv2.COLOR_BGR2RGB)\n",
        "outData4 = pytesseract.image_to_string(img4)\n",
        "print(\"ESRGAN Data:\", outData4)"
      ]
    },
    {
      "cell_type": "code",
      "execution_count": null,
      "metadata": {
        "id": "hUkBc9RtoMmU"
      },
      "outputs": [],
      "source": [
        "#bouding box detected text in super-res image\n",
        "d = pytesseract.image_to_data(img4, output_type=Output.DICT)\n",
        "n_boxes = len(d['level'])\n",
        "for i in range(n_boxes):\n",
        "    (x, y, w, h) = (d['left'][i], d['top'][i], d['width'][i], d['height'][i])\n",
        "    cv2.rectangle(img4, (x, y), (x + w, y + h), (0, 0, 255), 2)\n",
        "\n",
        "cv2_imshow(img4)\n"
      ]
    },
    {
      "cell_type": "markdown",
      "metadata": {
        "id": "D0jeKARZwRp2"
      },
      "source": [
        "# **PSNR Evaluation:**"
      ]
    },
    {
      "cell_type": "code",
      "execution_count": null,
      "metadata": {
        "id": "uHKYuYHsqmtZ"
      },
      "outputs": [],
      "source": [
        "evalImgPath = 'path of high-res evaluation image'\n",
        "evalImg = cv2.imread(evalImgPath, cv2.IMREAD_COLOR)\n",
        "print(evalImg.shape)\n",
        "cv2_imshow(evalImg)"
      ]
    },
    {
      "cell_type": "code",
      "execution_count": null,
      "metadata": {
        "id": "-uzY_djuu9bv"
      },
      "outputs": [],
      "source": [
        "#resize/convert to low res for evaluation\n",
        "lrEvalSize = (320, 200)\n",
        "lrEvalImg = cv2.resize(evalImg, lrEvalSize)\n",
        "print(lrEvalImg.shape)\n",
        "cv2_imshow(lrEvalImg)"
      ]
    },
    {
      "cell_type": "code",
      "execution_count": null,
      "metadata": {
        "id": "K1LbUuOSxIOL"
      },
      "outputs": [],
      "source": [
        "if (lrEvalImg.shape[2] == 4):\n",
        "  lrEvalImg = lrEvalImg[:,:,:3]\n",
        "\n",
        "lrEvalImg = tf.cast(lrEvalImg, tf.float32)\n",
        "lrEvalImg = tf.expand_dims(lrEvalImg, 0)\n",
        "\n",
        "if (evalImg.shape[2] == 4):\n",
        "  evalImg = evalImg[:,:,:3]\n",
        "\n",
        "evalImg = tf.cast(evalImg, tf.float32)\n",
        "evalImg = tf.expand_dims(evalImg, 0)\n"
      ]
    },
    {
      "cell_type": "code",
      "execution_count": null,
      "metadata": {
        "id": "OXDsY_y1wO-Y"
      },
      "outputs": [],
      "source": [
        "evalSupResImg = esrganModel(lrEvalImg)"
      ]
    },
    {
      "cell_type": "code",
      "execution_count": null,
      "metadata": {
        "id": "2H35P3jnxhC-"
      },
      "outputs": [],
      "source": [
        "evalSupResImg = tf.squeeze(evalSupResImg)\n",
        "image = np.asarray(tf.squeeze(evalSupResImg))\n",
        "image = np.clip(image, 0, 255)\n",
        "image = Image.fromarray(tf.cast(image, tf.uint8).numpy())\n",
        "EvalsavePath = \"Save path for super-res evalution image\"\n",
        "image.save(savePath)"
      ]
    },
    {
      "cell_type": "code",
      "execution_count": null,
      "metadata": {
        "id": "o9welCJnx411"
      },
      "outputs": [],
      "source": [
        "evalOut = tf.image.psnr(np.clip(evalSupResImg, 0, 255), np.clip(evalImg, 0, 255), max_val=255)\n",
        "print(\"PSNR Evaluation: %.3f\" %evalOut)"
      ]
    }
  ],
  "metadata": {
    "colab": {
      "provenance": []
    },
    "gpuClass": "standard",
    "kernelspec": {
      "display_name": "Python 3",
      "language": "python",
      "name": "python3"
    },
    "language_info": {
      "codemirror_mode": {
        "name": "ipython",
        "version": 3
      },
      "file_extension": ".py",
      "mimetype": "text/x-python",
      "name": "python",
      "nbconvert_exporter": "python",
      "pygments_lexer": "ipython3",
      "version": "3.10.7 (tags/v3.10.7:6cc6b13, Sep  5 2022, 14:08:36) [MSC v.1933 64 bit (AMD64)]"
    },
    "vscode": {
      "interpreter": {
        "hash": "3567043677e9e623e45f50147f63be11b9bb8088f85bef38c07137e8225ca207"
      }
    }
  },
  "nbformat": 4,
  "nbformat_minor": 0
}
